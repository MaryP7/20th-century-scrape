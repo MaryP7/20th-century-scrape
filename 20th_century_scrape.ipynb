{
 "cells": [
  {
   "cell_type": "code",
   "execution_count": 2,
   "id": "04a04539-a102-49e7-82a8-5df2be5c7a73",
   "metadata": {},
   "outputs": [
    {
     "name": "stdout",
     "output_type": "stream",
     "text": [
      "Requirement already satisfied: pandas==1.5.1 in c:\\users\\istia\\anaconda3\\lib\\site-packages (1.5.1)\n",
      "Requirement already satisfied: requests==2.28.1 in c:\\users\\istia\\anaconda3\\lib\\site-packages (2.28.1)\n",
      "Requirement already satisfied: beautifulsoup4==4.11.1 in c:\\users\\istia\\anaconda3\\lib\\site-packages (4.11.1)\n",
      "Requirement already satisfied: selenium==3.141.0 in c:\\users\\istia\\anaconda3\\lib\\site-packages (3.141.0)\n",
      "Requirement already satisfied: webdriver_manager==3.8.5 in c:\\users\\istia\\anaconda3\\lib\\site-packages (3.8.5)\n",
      "Requirement already satisfied: matplotlib==3.6.2 in c:\\users\\istia\\anaconda3\\lib\\site-packages (3.6.2)\n",
      "Requirement already satisfied: python-dateutil>=2.8.1 in c:\\users\\istia\\anaconda3\\lib\\site-packages (from pandas==1.5.1) (2.8.2)\n",
      "Requirement already satisfied: pytz>=2020.1 in c:\\users\\istia\\anaconda3\\lib\\site-packages (from pandas==1.5.1) (2023.3.post1)\n",
      "Requirement already satisfied: numpy>=1.21.0 in c:\\users\\istia\\anaconda3\\lib\\site-packages (from pandas==1.5.1) (1.26.4)\n",
      "Requirement already satisfied: charset-normalizer<3,>=2 in c:\\users\\istia\\anaconda3\\lib\\site-packages (from requests==2.28.1) (2.0.4)\n",
      "Requirement already satisfied: idna<4,>=2.5 in c:\\users\\istia\\anaconda3\\lib\\site-packages (from requests==2.28.1) (3.4)\n",
      "Requirement already satisfied: urllib3<1.27,>=1.21.1 in c:\\users\\istia\\anaconda3\\lib\\site-packages (from requests==2.28.1) (1.26.18)\n",
      "Requirement already satisfied: certifi>=2017.4.17 in c:\\users\\istia\\anaconda3\\lib\\site-packages (from requests==2.28.1) (2024.2.2)\n",
      "Requirement already satisfied: soupsieve>1.2 in c:\\users\\istia\\anaconda3\\lib\\site-packages (from beautifulsoup4==4.11.1) (2.5)\n",
      "Requirement already satisfied: python-dotenv in c:\\users\\istia\\anaconda3\\lib\\site-packages (from webdriver_manager==3.8.5) (0.21.0)\n",
      "Requirement already satisfied: tqdm in c:\\users\\istia\\anaconda3\\lib\\site-packages (from webdriver_manager==3.8.5) (4.65.0)\n",
      "Requirement already satisfied: packaging in c:\\users\\istia\\anaconda3\\lib\\site-packages (from webdriver_manager==3.8.5) (23.1)\n",
      "Requirement already satisfied: contourpy>=1.0.1 in c:\\users\\istia\\anaconda3\\lib\\site-packages (from matplotlib==3.6.2) (1.2.0)\n",
      "Requirement already satisfied: cycler>=0.10 in c:\\users\\istia\\anaconda3\\lib\\site-packages (from matplotlib==3.6.2) (0.11.0)\n",
      "Requirement already satisfied: fonttools>=4.22.0 in c:\\users\\istia\\anaconda3\\lib\\site-packages (from matplotlib==3.6.2) (4.25.0)\n",
      "Requirement already satisfied: kiwisolver>=1.0.1 in c:\\users\\istia\\anaconda3\\lib\\site-packages (from matplotlib==3.6.2) (1.4.4)\n",
      "Requirement already satisfied: pillow>=6.2.0 in c:\\users\\istia\\anaconda3\\lib\\site-packages (from matplotlib==3.6.2) (10.2.0)\n",
      "Requirement already satisfied: pyparsing>=2.2.1 in c:\\users\\istia\\anaconda3\\lib\\site-packages (from matplotlib==3.6.2) (3.0.9)\n",
      "Requirement already satisfied: six>=1.5 in c:\\users\\istia\\anaconda3\\lib\\site-packages (from python-dateutil>=2.8.1->pandas==1.5.1) (1.16.0)\n",
      "Requirement already satisfied: colorama in c:\\users\\istia\\anaconda3\\lib\\site-packages (from tqdm->webdriver_manager==3.8.5) (0.4.6)\n"
     ]
    }
   ],
   "source": [
    "!pip install pandas==1.5.1 requests==2.28.1 beautifulsoup4==4.11.1 selenium==3.141.0 webdriver_manager==3.8.5 matplotlib==3.6.2"
   ]
  },
  {
   "cell_type": "code",
   "execution_count": 4,
   "id": "3c14657f-8a20-43bb-8547-8c4cd81862c6",
   "metadata": {
    "scrolled": true
   },
   "outputs": [],
   "source": [
    "# Imports\n",
    "import requests\n",
    "import numpy as np\n",
    "import pandas as pd\n",
    "from bs4 import BeautifulSoup\n",
    "import matplotlib.pyplot as plt\n",
    "\n",
    "%matplotlib inline"
   ]
  },
  {
   "cell_type": "code",
   "execution_count": 34,
   "id": "f62678f3-fef0-4b4a-9107-b93a6440a9dd",
   "metadata": {},
   "outputs": [
    {
     "name": "stdout",
     "output_type": "stream",
     "text": [
      "\"The war to end all wars\": World War I (1914–1918)[edit]\n",
      "The Russian Revolution and Communism[edit]\n",
      "Economic depression[edit]\n",
      "The rise of dictatorship[edit]\n",
      "The war in Europe[edit]\n",
      "Blitzkrieg[edit]\n",
      "Operation Barbarossa[edit]\n",
      "Turning tides[edit]\n",
      "Operation Overlord[edit]\n",
      "Final days[edit]\n",
      "The war in the Pacific[edit]\n",
      "Japanese Expansion[edit]\n",
      "Allied offensive[edit]\n",
      "Final days[edit]\n",
      "The Holocaust[edit]\n",
      "The Nuclear Age begins[edit]\n",
      "The end of empires: decolonization[edit]\n",
      "The Cold War (1947–1991)[edit]\n",
      "War by proxy[edit]\n",
      "The space race[edit]\n",
      "The end of the Cold War[edit]\n",
      "Information and communications technology[edit]\n"
     ]
    }
   ],
   "source": [
    "import requests\n",
    "from bs4 import BeautifulSoup\n",
    "\n",
    "# Get the HTML content of the Wikipedia page\n",
    "url = 'https://en.wikipedia.org/wiki/Key_events_of_the_20th_century'\n",
    "response = requests.get(url)\n",
    "\n",
    "# Parse the HTML using BeautifulSoup\n",
    "soup = BeautifulSoup(response.text, 'html.parser')\n",
    "\n",
    "# Find all h4 tags containing event names\n",
    "event_names = soup.find_all('h4')\n",
    "\n",
    "# Extract the event names\n",
    "for event_name in event_names:\n",
    "    print(event_name.text)"
   ]
  },
  {
   "cell_type": "code",
   "execution_count": 35,
   "id": "740af308-aca4-475a-b602-9424d2a2603f",
   "metadata": {},
   "outputs": [],
   "source": [
    "with open('output.txt', 'w') as f:\n",
    "    f.write(str(event_names))"
   ]
  },
  {
   "cell_type": "code",
   "execution_count": null,
   "id": "2183eaaa-1e55-479b-a1bf-e8bc39136f46",
   "metadata": {},
   "outputs": [],
   "source": []
  },
  {
   "cell_type": "code",
   "execution_count": null,
   "id": "abe8f081-3581-4be8-854e-a3d4b068511a",
   "metadata": {},
   "outputs": [],
   "source": []
  }
 ],
 "metadata": {
  "kernelspec": {
   "display_name": "Python 3 (ipykernel)",
   "language": "python",
   "name": "python3"
  },
  "language_info": {
   "codemirror_mode": {
    "name": "ipython",
    "version": 3
   },
   "file_extension": ".py",
   "mimetype": "text/x-python",
   "name": "python",
   "nbconvert_exporter": "python",
   "pygments_lexer": "ipython3",
   "version": "3.11.7"
  }
 },
 "nbformat": 4,
 "nbformat_minor": 5
}
